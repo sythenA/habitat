{
 "cells": [
  {
   "cell_type": "code",
   "execution_count": 35,
   "metadata": {},
   "outputs": [],
   "source": [
    "import xlrd\n",
    "from operator import itemgetter\n",
    "data=xlrd.open_workbook(unicode('D:\\水規所計畫\\生態適合度模組\\大安溪適合度曲線.xlsx'.decode('utf-8')))\n",
    "table = data.sheets()[0]\n",
    "raw_data = list()\n",
    "for j in range(0, table.nrows):\n",
    "    raw_data.append(table.row_values(j))\n",
    "raw_data.pop(0)\n",
    "raw_data = sorted(raw_data, key=itemgetter(12))\n",
    "\n",
    "data_by_specie = list()\n",
    "specie = list()\n",
    "specie.append(raw_data[0])\n",
    "for j in range(1, len(raw_data)):\n",
    "    if raw_data[j][12] == raw_data[j-1][12]:\n",
    "        specie.append(raw_data[j])\n",
    "    else:\n",
    "        data_by_specie.append(specie)\n",
    "        specie = list()\n",
    "        specie.append(raw_data[j])\n",
    "data_by_specie.append(specie)\n",
    "\n",
    "for specie in data_by_specie:\n",
    "    _specie = list()\n",
    "    fType = list()\n",
    "    for line in specie:\n",
    "        if line[7] not in fType:\n",
    "            fType.append(line[7])\n",
    "            _specie.append(line)\n",
    "    idx = data_by_specie.index(specie)\n",
    "    data_by_specie[idx] = _specie"
   ]
  },
  {
   "cell_type": "code",
   "execution_count": 38,
   "metadata": {},
   "outputs": [
    {
     "name": "stdout",
     "output_type": "stream",
     "text": [
      "水深\n",
      "流速\n",
      "底質\n"
     ]
    }
   ],
   "source": [
    "for line in data_by_specie[2]:\n",
    "    print(line[7])"
   ]
  },
  {
   "cell_type": "code",
   "execution_count": 39,
   "metadata": {},
   "outputs": [],
   "source": [
    "xls = 'xlsFiles'"
   ]
  },
  {
   "cell_type": "code",
   "execution_count": 45,
   "metadata": {},
   "outputs": [
    {
     "data": {
      "text/plain": [
       "'xlsFile'"
      ]
     },
     "execution_count": 45,
     "metadata": {},
     "output_type": "execute_result"
    }
   ],
   "source": [
    "xls[0:-1]"
   ]
  },
  {
   "cell_type": "code",
   "execution_count": null,
   "metadata": {},
   "outputs": [],
   "source": []
  }
 ],
 "metadata": {
  "kernelspec": {
   "display_name": "Python 2",
   "language": "python",
   "name": "python2"
  },
  "language_info": {
   "codemirror_mode": {
    "name": "ipython",
    "version": 2
   },
   "file_extension": ".py",
   "mimetype": "text/x-python",
   "name": "python",
   "nbconvert_exporter": "python",
   "pygments_lexer": "ipython2",
   "version": "2.7.15"
  }
 },
 "nbformat": 4,
 "nbformat_minor": 2
}
